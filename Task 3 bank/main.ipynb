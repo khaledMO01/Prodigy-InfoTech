{
 "cells": [
  {
   "cell_type": "code",
   "execution_count": 1,
   "metadata": {},
   "outputs": [
    {
     "name": "stdout",
     "output_type": "stream",
     "text": [
      "Data before cleaning:\n",
      "   age          job  marital  education default  balance housing loan  \\\n",
      "0   30   unemployed  married    primary      no     1787      no   no   \n",
      "1   33     services  married  secondary      no     4789     yes  yes   \n",
      "2   35   management   single   tertiary      no     1350     yes   no   \n",
      "3   30   management  married   tertiary      no     1476     yes  yes   \n",
      "4   59  blue-collar  married  secondary      no        0     yes   no   \n",
      "\n",
      "    contact  day month  duration  campaign  pdays  previous poutcome   y  \n",
      "0  cellular   19   oct        79         1     -1         0  unknown  no  \n",
      "1  cellular   11   may       220         1    339         4  failure  no  \n",
      "2  cellular   16   apr       185         1    330         1  failure  no  \n",
      "3   unknown    3   jun       199         4     -1         0  unknown  no  \n",
      "4   unknown    5   may       226         1     -1         0  unknown  no  \n",
      "Cleaned data has been saved to ./bank_cleaned.csv\n"
     ]
    }
   ],
   "source": [
    "import pandas as pd\n",
    "\n",
    "# Load the data with `;` as the delimiter\n",
    "file_path = './bank.csv'\n",
    "data = pd.read_csv(file_path, delimiter=';')\n",
    "\n",
    "# Check the first few rows to confirm it is correctly loaded\n",
    "print(\"Data before cleaning:\")\n",
    "print(data.head())\n",
    "\n",
    "# Save the cleaned data to a new CSV file for further use\n",
    "cleaned_file_path = './bank_cleaned.csv'\n",
    "data.to_csv(cleaned_file_path, index=False)\n",
    "\n",
    "print(f\"Cleaned data has been saved to {cleaned_file_path}\")\n"
   ]
  },
  {
   "cell_type": "code",
   "execution_count": 2,
   "metadata": {},
   "outputs": [
    {
     "name": "stdout",
     "output_type": "stream",
     "text": [
      "Accuracy: 0.8718232044198895\n",
      "Classification Report:\n",
      "              precision    recall  f1-score   support\n",
      "\n",
      "           0       0.93      0.92      0.93       807\n",
      "           1       0.42      0.47      0.44        98\n",
      "\n",
      "    accuracy                           0.87       905\n",
      "   macro avg       0.68      0.70      0.68       905\n",
      "weighted avg       0.88      0.87      0.88       905\n",
      "\n"
     ]
    }
   ],
   "source": [
    "from sklearn.model_selection import train_test_split\n",
    "from sklearn.tree import DecisionTreeClassifier\n",
    "from sklearn.metrics import accuracy_score, classification_report\n",
    "from sklearn.preprocessing import LabelEncoder\n",
    "\n",
    "# Load the cleaned data\n",
    "data = pd.read_csv(cleaned_file_path)\n",
    "\n",
    "# Encode categorical features\n",
    "label_encoders = {}\n",
    "for column in data.select_dtypes(include=['object']).columns:\n",
    "    label_encoders[column] = LabelEncoder()\n",
    "    data[column] = label_encoders[column].fit_transform(data[column])\n",
    "\n",
    "# Separate the features and the target variable\n",
    "X = data.drop(columns=['y'])  # 'y' is the target column\n",
    "y = data['y']\n",
    "\n",
    "# Split the data into training and testing sets\n",
    "X_train, X_test, y_train, y_test = train_test_split(X, y, test_size=0.2, random_state=42)\n",
    "\n",
    "# Initialize and train the Decision Tree Classifier\n",
    "clf = DecisionTreeClassifier(random_state=42)\n",
    "clf.fit(X_train, y_train)\n",
    "\n",
    "# Make predictions on the test set\n",
    "y_pred = clf.predict(X_test)\n",
    "\n",
    "# Evaluate the model\n",
    "accuracy = accuracy_score(y_test, y_pred)\n",
    "report = classification_report(y_test, y_pred)\n",
    "\n",
    "# Print results\n",
    "print(f\"Accuracy: {accuracy}\")\n",
    "print(\"Classification Report:\")\n",
    "print(report)"
   ]
  },
  {
   "cell_type": "markdown",
   "metadata": {},
   "source": [
    "# Test the data "
   ]
  },
  {
   "cell_type": "code",
   "execution_count": null,
   "metadata": {},
   "outputs": [
    {
     "name": "stdout",
     "output_type": "stream",
     "text": [
      "The prediction for this customer is: No\n"
     ]
    }
   ],
   "source": [
    "new_customer = {\n",
    "    'age': 30,\n",
    "    'job': 'admin.',  # Needs to be encoded as in training\n",
    "    'marital': 'married',\n",
    "    'education': 'secondary',\n",
    "    'default': 'no',\n",
    "    'balance': 1500,\n",
    "    'housing': 'yes',\n",
    "    'loan': 'no',\n",
    "    'contact': 'cellular',\n",
    "    'day': 15,\n",
    "    'month': 'jul',\n",
    "    'duration': 200,\n",
    "    'campaign': 2,\n",
    "    'pdays': -1,\n",
    "    'previous': 0,\n",
    "    'poutcome': 'unknown'\n",
    "}\n",
    "\n",
    "# Convert the new data into a DataFrame\n",
    "new_customer_df = pd.DataFrame([new_customer])\n",
    "\n",
    "# Encode the new data using the same LabelEncoders used for training\n",
    "for column in new_customer_df.columns:\n",
    "    if column in label_encoders:\n",
    "        new_customer_df[column] = label_encoders[column].transform(new_customer_df[column])\n",
    "\n",
    "# Predict whether the customer will purchase the product/service\n",
    "prediction = clf.predict(new_customer_df)\n",
    "purchase_decision = 'Yes' if prediction[0] == 1 else 'No'\n",
    "\n",
    "print(f\"The prediction for this customer is: {purchase_decision}\")"
   ]
  }
 ],
 "metadata": {
  "kernelspec": {
   "display_name": "Python 3",
   "language": "python",
   "name": "python3"
  },
  "language_info": {
   "codemirror_mode": {
    "name": "ipython",
    "version": 3
   },
   "file_extension": ".py",
   "mimetype": "text/x-python",
   "name": "python",
   "nbconvert_exporter": "python",
   "pygments_lexer": "ipython3",
   "version": "3.10.7"
  }
 },
 "nbformat": 4,
 "nbformat_minor": 2
}
